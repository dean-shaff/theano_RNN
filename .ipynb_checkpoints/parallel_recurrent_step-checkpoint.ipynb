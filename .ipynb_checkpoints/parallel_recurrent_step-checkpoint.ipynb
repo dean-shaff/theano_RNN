{
 "cells": [
  {
   "cell_type": "code",
   "execution_count": 2,
   "metadata": {
    "collapsed": false
   },
   "outputs": [
    {
     "name": "stdout",
     "output_type": "stream",
     "text": [
      "(4, 100, 40)\n",
      "(0.01442718505859375, 0.0014879703521728516)\n"
     ]
    }
   ],
   "source": [
    "import numpy as np \n",
    "import time \n",
    "\n",
    "mb = 40\n",
    "nin = 28\n",
    "nhid = 100 \n",
    "nweight = 4 \n",
    "\n",
    "W = np.random.rand(nweight,nin,nhid)\n",
    "x = np.random.rand(mb,nin)\n",
    "\n",
    "t0 = time.time() \n",
    "res = np.tensordot(W,x,(1,1))\n",
    "t_parr = time.time() - t0\n",
    "\n",
    "print(res.shape)\n",
    "t0 = time.time() \n",
    "# res1 = np.zeros((nweight,mb,nhid))\n",
    "for i in xrange(nweight):\n",
    "#     res1[i,:,:] = np.dot(x,W[i])\n",
    "    np.dot(x,W[i])\n",
    "t_noparr = time.time() - t0\n",
    "\n",
    "print(t_parr, t_noparr)\n",
    "\n",
    "# np.allclose(res1,res)"
   ]
  },
  {
   "cell_type": "code",
   "execution_count": 21,
   "metadata": {
    "collapsed": false
   },
   "outputs": [
    {
     "name": "stdout",
     "output_type": "stream",
     "text": [
      "(0.0013968944549560547, 0.003117084503173828)\n"
     ]
    }
   ],
   "source": [
    "Wparr = np.random.rand(nin,nhid*nweight)\n",
    "Wnoparr = np.zeros((nweight,nin,nhid))\n",
    "for i in xrange(nweight):\n",
    "    Wnoparr[i] = Wparr[:,i*nhid:(i+1)*nhid]\n",
    "# print(np.allclose(Wparr[:,:nhid],Wnoparr[0]))\n",
    "# print(np.allclose(Wparr[:,3*nhid:],Wnoparr[3]))\n",
    "x = np.random.rand(mb,nin)\n",
    "\n",
    "t0 = time.time()\n",
    "res = np.dot(x,W)\n",
    "t_parr = time.time() - t0\n",
    "\n",
    "t0 = time.time() \n",
    "res1 = np.zeros((nweight,mb,nhid))\n",
    "for i in xrange(nweight):\n",
    "    res1[i,:,:] = np.dot(x,W[i])\n",
    "#     np.dot(x,W[i])\n",
    "t_noparr = time.time() - t0\n",
    "\n",
    "\n",
    "\n",
    "print(t_parr, t_noparr)\n"
   ]
  }
 ],
 "metadata": {
  "kernelspec": {
   "display_name": "Python 2",
   "language": "python",
   "name": "python2"
  },
  "language_info": {
   "codemirror_mode": {
    "name": "ipython",
    "version": 2
   },
   "file_extension": ".py",
   "mimetype": "text/x-python",
   "name": "python",
   "nbconvert_exporter": "python",
   "pygments_lexer": "ipython2",
   "version": "2.7.11+"
  }
 },
 "nbformat": 4,
 "nbformat_minor": 0
}
